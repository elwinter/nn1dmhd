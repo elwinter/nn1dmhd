{
 "cells": [
  {
   "cell_type": "code",
   "execution_count": null,
   "metadata": {},
   "outputs": [],
   "source": [
    "from importlib import import_module\n",
    "import os\n",
    "import sys\n",
    "\n",
    "import matplotlib.pyplot as plt\n",
    "import numpy as np"
   ]
  },
  {
   "cell_type": "code",
   "execution_count": null,
   "metadata": {},
   "outputs": [],
   "source": [
    "# Specify the run ID (aka problem name).\n",
    "runid = \"linecurrent_nPBxByBz\"\n",
    "\n",
    "# Add the subdirectory for the run results to the module search path.\n",
    "run_path = os.path.join(\".\", runid)\n",
    "sys.path.append(run_path)\n",
    "\n",
    "# Import the problem definition from the run results directory.\n",
    "p = import_module(runid)\n",
    "\n",
    "# Read the run hyperparameters from the run results directory.\n",
    "import hyperparameters as hp"
   ]
  },
  {
   "cell_type": "code",
   "execution_count": null,
   "metadata": {},
   "outputs": [],
   "source": [
    "# Load the training points.\n",
    "txy_train = np.loadtxt(os.path.join(runid, \"X_train.dat\"))\n",
    "t_train = txy_train[:, 0]\n",
    "x_train = txy_train[:, 1]\n",
    "y_train = txy_train[:, 2]"
   ]
  },
  {
   "cell_type": "code",
   "execution_count": null,
   "metadata": {},
   "outputs": [],
   "source": [
    "# Extract the unique training point values.\n",
    "t_train_vals = np.unique(t_train)\n",
    "x_train_vals = np.unique(x_train)\n",
    "y_train_vals = np.unique(y_train)\n",
    "n_t_train_vals = len(t_train_vals)\n",
    "n_x_train_vals = len(x_train_vals)\n",
    "n_y_train_vals = len(y_train_vals)"
   ]
  },
  {
   "cell_type": "code",
   "execution_count": null,
   "metadata": {},
   "outputs": [],
   "source": [
    "# Load the data locations and values.\n",
    "txy_data = np.loadtxt(os.path.join(runid, \"XY_data.dat\"))\n",
    "\n",
    "# Extract the initial conditions.\n",
    "bc0 = txy_data[:, -4:]"
   ]
  },
  {
   "cell_type": "code",
   "execution_count": null,
   "metadata": {},
   "outputs": [],
   "source": [
    "# Plot the initial magnetic field.\n",
    "X = txy_data[:, 1]\n",
    "Y = txy_data[:, 2]\n",
    "U = bc0[:, 2]\n",
    "V = bc0[:, 3]\n",
    "plt.quiver(X, Y, U, V, scale=20)\n",
    "plt.title(\"Initial magnetic field\")\n",
    "plt.xlabel(\"$x$\")\n",
    "plt.ylabel(\"$y$\")"
   ]
  },
  {
   "cell_type": "code",
   "execution_count": null,
   "metadata": {},
   "outputs": [],
   "source": [
    "# Load the model-predicted values.\n",
    "ψ = []\n",
    "delψ = []\n",
    "for i in range(len(p.dependent_variable_names)):\n",
    "    var_name = p.dependent_variable_names[i]\n",
    "    ψ.append(np.loadtxt(os.path.join(runid, \"%s_train.dat\" % var_name)))\n",
    "    delψ.append(np.loadtxt(os.path.join(runid, \"del_%s_train.dat\" % var_name)))\n"
   ]
  },
  {
   "cell_type": "code",
   "execution_count": null,
   "metadata": {},
   "outputs": [],
   "source": [
    "n_start = n_x_train_vals*n_y_train_vals\n",
    "X = x_train[:n_start]\n",
    "Y = y_train[:n_start]\n",
    "U = ψ[2][:n_start]\n",
    "V = ψ[3][:n_start]\n",
    "plt.quiver(X, Y, U, V)\n",
    "plt.title(\"Predicted magnetic field at start\")\n",
    "plt.xlabel(\"$x$\")\n",
    "plt.ylabel(\"$y$\")"
   ]
  },
  {
   "cell_type": "code",
   "execution_count": null,
   "metadata": {},
   "outputs": [],
   "source": [
    "n_end = n_x_train_vals*n_y_train_vals\n",
    "X = x_train[-n_end:]\n",
    "Y = y_train[-n_end:]\n",
    "U = ψ[2][-n_end:]\n",
    "V = ψ[3][-n_end:]\n",
    "plt.quiver(X, Y, U, V)\n",
    "plt.title(\"Predicted magnetic field at end\")\n",
    "plt.xlabel(\"$x$\")\n",
    "plt.ylabel(\"$y$\")"
   ]
  },
  {
   "cell_type": "code",
   "execution_count": null,
   "metadata": {},
   "outputs": [],
   "source": [
    "fig, axes = plt.subplots()\n",
    "axes.set_aspect(1.0)\n",
    "plt.scatter(X, Y)\n",
    "plt.title(\"Training points\")\n",
    "plt.xlabel(\"$x$\")\n",
    "plt.ylabel(\"$y$\")"
   ]
  }
 ],
 "metadata": {
  "kernelspec": {
   "display_name": "research-3.10",
   "language": "python",
   "name": "python3"
  },
  "language_info": {
   "codemirror_mode": {
    "name": "ipython",
    "version": 3
   },
   "file_extension": ".py",
   "mimetype": "text/x-python",
   "name": "python",
   "nbconvert_exporter": "python",
   "pygments_lexer": "ipython3",
   "version": "3.10.8"
  },
  "orig_nbformat": 4,
  "vscode": {
   "interpreter": {
    "hash": "00353d7f30cefe116fc1bf1d52fbabca9f44d2df3e2eb8cf0d245f78f2264c19"
   }
  }
 },
 "nbformat": 4,
 "nbformat_minor": 2
}
