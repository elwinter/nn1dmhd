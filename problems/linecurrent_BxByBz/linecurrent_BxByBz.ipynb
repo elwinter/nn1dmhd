{
 "cells": [
  {
   "cell_type": "code",
   "execution_count": null,
   "metadata": {},
   "outputs": [],
   "source": [
    "from importlib import import_module\n",
    "import math as m\n",
    "import os\n",
    "import sys\n",
    "\n",
    "import matplotlib.pyplot as plt\n",
    "from matplotlib.colors import LogNorm, Normalize\n",
    "import numpy as np\n",
    "import seaborn as sb"
   ]
  },
  {
   "cell_type": "code",
   "execution_count": null,
   "metadata": {},
   "outputs": [],
   "source": [
    "# Specify the run ID (aka problem name).\n",
    "runid = \"linecurrent_BxByBz\"\n",
    "\n",
    "# Add the subdirectory for the run results to the module search path.\n",
    "run_path = os.path.join(\".\", runid)\n",
    "sys.path.append(run_path)\n",
    "\n",
    "# Import the problem definition from the run results directory.\n",
    "p = import_module(runid)\n",
    "\n",
    "# Read the run hyperparameters from the run results directory.\n",
    "import hyperparameters as hp"
   ]
  },
  {
   "cell_type": "code",
   "execution_count": null,
   "metadata": {},
   "outputs": [],
   "source": [
    "# Compute the number of models.\n",
    "n_models = p.n_var\n",
    "\n",
    "# Compute the number of rows and columns for the 2-per-row plot.\n",
    "n_cols = 2\n",
    "n_rows = m.ceil(n_models/n_cols)\n",
    "\n",
    "# Compute the figure size for model loss plots, assuming 5x5 for each figure, in rows of 2 plots.\n",
    "loss_figsize = (5*n_cols, 5*n_rows)\n",
    "\n",
    "# Compute the figure size for heat maps, assuming 6x4 for each figure, in rows of 2 plots.\n",
    "# heatmap_figsize = (12*n_rows, 4*n_rows)\n",
    "\n",
    "# Compute the figure size for the start-and-end comparison plots, in rows of 2 plots.\n",
    "# start_end_figsize = (12*n_rows, 4*n_rows)"
   ]
  },
  {
   "cell_type": "code",
   "execution_count": null,
   "metadata": {},
   "outputs": [],
   "source": [
    "# Analytical solution\n",
    "\n",
    "# Constants\n",
    "mu0 = 1.0  # Normalized vacuum permittivity.\n",
    "I = 1.0    # Normalized current.\n",
    "Q = 60.0   # Flow angle in degrees clockwise from +y axis.\n",
    "u0 = 1.0   # Initial flow speed.\n",
    "\n",
    "# Compute the constant velocity components.\n",
    "ux = u0*np.sin(np.radians(Q))\n",
    "uy = u0*np.cos(np.radians(Q))\n",
    "\n",
    "def Bx_analytical(t, x, y):\n",
    "    r = np.sqrt((x - ux*t)**2 + (y - uy*t)**2)\n",
    "    Bx = -mu0*I/(2*np.pi)*(y - uy*t)/r**2\n",
    "    return Bx\n",
    "\n",
    "def By_analytical(t, x, y):\n",
    "    r = np.sqrt((x - ux*t)**2 + (y - uy*t)**2)\n",
    "    By = mu0*I/(2*np.pi)*(x - ux*t)/r**2\n",
    "    return By\n",
    "\n",
    "def Bz_analytical(t, x, y):\n",
    "    Bz = np.zeros(t.shape)\n",
    "    return Bz"
   ]
  },
  {
   "cell_type": "code",
   "execution_count": null,
   "metadata": {},
   "outputs": [],
   "source": [
    "# Load the training points.\n",
    "txy_train = np.loadtxt(os.path.join(runid, \"X_train.dat\"))\n",
    "t_train = txy_train[:, 0]\n",
    "x_train = txy_train[:, 1]\n",
    "y_train = txy_train[:, 2]\n",
    "\n",
    "# Compute the data limits.\n",
    "t_min = t_train[0]\n",
    "t_max = t_train[-1]\n",
    "x_min = x_train[0]\n",
    "x_max = x_train[-1]\n",
    "y_min = y_train[0]\n",
    "y_max = y_train[-1]"
   ]
  },
  {
   "cell_type": "code",
   "execution_count": null,
   "metadata": {},
   "outputs": [],
   "source": [
    "# Extract the unique training point values.\n",
    "t_train_vals = np.unique(t_train)\n",
    "x_train_vals = np.unique(x_train)\n",
    "y_train_vals = np.unique(y_train)\n",
    "n_t_train_vals = len(t_train_vals)\n",
    "n_x_train_vals = len(x_train_vals)\n",
    "n_y_train_vals = len(y_train_vals)"
   ]
  },
  {
   "cell_type": "code",
   "execution_count": null,
   "metadata": {},
   "outputs": [],
   "source": [
    "# Compute the heat map tick locations and labels.\n",
    "n_x_ticks = 6\n",
    "x_tick_pos = np.linspace(0, n_x_train_vals - 1, n_x_ticks)\n",
    "x_tick_labels = [\"%.2f\" % (x_min + x/(n_x_train_vals - 1)*(x_max - x_min)) for x in x_tick_pos]\n",
    "n_y_ticks = 6\n",
    "y_tick_pos = np.linspace(0, n_y_train_vals - 1, n_y_ticks)\n",
    "y_tick_labels = [\"%.2f\" % (y_min + y/(n_y_train_vals - 1)*(y_max - y_min)) for y in y_tick_pos]\n",
    "y_tick_labels = list(reversed(y_tick_labels))"
   ]
  },
  {
   "cell_type": "code",
   "execution_count": null,
   "metadata": {},
   "outputs": [],
   "source": [
    "# Load the data locations and values.\n",
    "txy_data = np.loadtxt(os.path.join(runid, \"XY_data.dat\"))"
   ]
  },
  {
   "cell_type": "code",
   "execution_count": null,
   "metadata": {},
   "outputs": [],
   "source": [
    "# Load the model-predicted values.\n",
    "ψ = []\n",
    "delψ = []\n",
    "for i in range(len(p.dependent_variable_names)):\n",
    "    var_name = p.dependent_variable_names[i]\n",
    "    ψ.append(np.loadtxt(os.path.join(runid, \"%s_train.dat\" % var_name)))\n",
    "    delψ.append(np.loadtxt(os.path.join(runid, \"del_%s_train.dat\" % var_name)))"
   ]
  },
  {
   "cell_type": "code",
   "execution_count": null,
   "metadata": {},
   "outputs": [],
   "source": [
    "# Load the loss function histories.\n",
    "losses_model = np.loadtxt(os.path.join(runid, \"losses_model.dat\"))\n",
    "losses_model_res = np.loadtxt(os.path.join(runid, \"losses_model_res.dat\"))\n",
    "losses_model_data = np.loadtxt(os.path.join(runid, \"losses_model_data.dat\"))\n",
    "losses = np.loadtxt(os.path.join(runid, \"losses.dat\"))\n",
    "losses_res = np.loadtxt(os.path.join(runid, \"losses_res.dat\"))\n",
    "losses_data = np.loadtxt(os.path.join(runid, \"losses_data.dat\"))"
   ]
  },
  {
   "cell_type": "code",
   "execution_count": null,
   "metadata": {},
   "outputs": [],
   "source": [
    "# Plot the loss history for each model.\n",
    "plt.figure(figsize=loss_figsize)\n",
    "for i in range(p.n_var):\n",
    "    plt.subplot(n_rows, n_cols, i + 1)\n",
    "    # variable_name = p.dependent_variable_names[i]\n",
    "    plt.semilogy(losses_model_res[:, i], label=\"$L_{res}$\")\n",
    "    plt.semilogy(losses_model_data[:, i], label=\"$L_{data}$\")\n",
    "    plt.semilogy(losses_model[:, i], label=\"$L$\")\n",
    "    plt.title(p.dependent_variable_labels[i])\n",
    "    plt.legend()\n",
    "plt.suptitle(\"Loss function histories by model\")\n",
    "plt.show()"
   ]
  },
  {
   "cell_type": "code",
   "execution_count": null,
   "metadata": {},
   "outputs": [],
   "source": [
    "# Plot the total loss function history.\n",
    "plt.semilogy(losses_res, label=\"$L_{res}$\")\n",
    "plt.semilogy(losses_data, label=\"$L_{data}$\")\n",
    "plt.semilogy(losses, label=\"$L$\")\n",
    "plt.xlabel(\"Epoch\")\n",
    "plt.ylabel(\"Loss function\")\n",
    "plt.legend()\n",
    "plt.grid()\n",
    "plt.title(\"Loss function evolution for %s\" % runid)\n",
    "plt.show()"
   ]
  },
  {
   "cell_type": "code",
   "execution_count": null,
   "metadata": {},
   "outputs": [],
   "source": [
    "# Plot the actual initial magnetic field as a quiver plot.\n",
    "x = txy_data[:, 1]\n",
    "y = txy_data[:, 2]\n",
    "B0x_act = txy_data[:, 3]\n",
    "B0y_act = txy_data[:, 4]\n",
    "plt.quiver(x, y, B0x_act, B0y_act, scale=2)\n",
    "ax = plt.gca()\n",
    "ax.set_aspect(1.0)\n",
    "ax.grid()\n",
    "plt.title(\"Initial magnetic field (actual)\")\n",
    "plt.xlabel(p.independent_variable_labels[1])\n",
    "plt.ylabel(p.independent_variable_labels[2])\n",
    "plt.show()"
   ]
  },
  {
   "cell_type": "code",
   "execution_count": null,
   "metadata": {},
   "outputs": [],
   "source": [
    "B0x_act.shapedd"
   ]
  },
  {
   "cell_type": "code",
   "execution_count": null,
   "metadata": {},
   "outputs": [],
   "source": [
    "# Plot the actual initial magnetic field as a logarithmic heat map.\n",
    "# These data were generated with the analytical solution.\n",
    "B0x_act = txy_data[:, 3]\n",
    "B0y_act = txy_data[:, 4]\n",
    "B0_act = np.sqrt(B0x_act**2 + B0y_act**2)\n",
    "# To get the proper orientation, reshape, transpose, flip.\n",
    "B0_act = np.flip(B0_act.reshape(n_x_train_vals, n_y_train_vals).T, axis=0)\n",
    "sb.heatmap(B0_act, norm=LogNorm(), square=True)\n",
    "plt.xticks(x_tick_pos, x_tick_labels)\n",
    "plt.yticks(y_tick_pos, y_tick_labels)\n",
    "plt.title(\"Initial magnetic field (actual)\")\n",
    "plt.xlabel(p.independent_variable_labels[1])\n",
    "plt.ylabel(p.independent_variable_labels[2])\n",
    "plt.show()"
   ]
  },
  {
   "cell_type": "code",
   "execution_count": null,
   "metadata": {},
   "outputs": [],
   "source": [
    "# Plot the predicted initial magnetic field as a quiver plot.\n",
    "n_start = n_x_train_vals*n_y_train_vals\n",
    "x = x_train[:n_start]\n",
    "y = y_train[:n_start]\n",
    "B0x_pred = ψ[0][:n_start]\n",
    "B0y_pred = ψ[1][:n_start]\n",
    "plt.quiver(x, y, B0x_pred, B0y_pred)\n",
    "ax = plt.gca()\n",
    "ax.set_aspect(1.0)\n",
    "ax.grid()\n",
    "plt.title(\"Initial magnetic field (predicted)\")\n",
    "plt.xlabel(p.independent_variable_labels[1])\n",
    "plt.ylabel(p.independent_variable_labels[2])\n",
    "plt.show()"
   ]
  },
  {
   "cell_type": "code",
   "execution_count": null,
   "metadata": {},
   "outputs": [],
   "source": [
    "# Plot the predicted initial magnetic field as a logarithmic heat map.\n",
    "n_start = n_x_train_vals*n_y_train_vals\n",
    "x = x_train[:n_start]\n",
    "y = y_train[:n_start]\n",
    "B0x_pred = ψ[0][:n_start]\n",
    "B0y_pred = ψ[1][:n_start]\n",
    "B0_pred = np.sqrt(B0x_pred**2 + B0y_pred**2)\n",
    "# To get the proper orientation, reshape, transpose, flip.\n",
    "B0_pred = np.flip(B0_pred.reshape(n_x_train_vals, n_y_train_vals).T, axis=0)\n",
    "sb.heatmap(B0_pred, norm=LogNorm(), square=True)\n",
    "plt.xticks(x_tick_pos, x_tick_labels)\n",
    "plt.yticks(y_tick_pos, y_tick_labels)\n",
    "plt.title(\"Initial magnetic field (predicted)\")\n",
    "plt.xlabel(p.independent_variable_labels[1])\n",
    "plt.ylabel(p.independent_variable_labels[2])\n",
    "plt.show()"
   ]
  },
  {
   "cell_type": "code",
   "execution_count": null,
   "metadata": {},
   "outputs": [],
   "source": [
    "# Plot the error in the predicted initial magnetic field as a heat map.\n",
    "n_start = n_x_train_vals*n_y_train_vals\n",
    "x = x_train[:n_start]\n",
    "y = y_train[:n_start]\n",
    "B0_err = (B0_pred - B0_act)/B0_act\n",
    "# To get the proper orientation, reshape, transpose, flip.\n",
    "B0_err = np.flip(B0_err.reshape(n_x_train_vals, n_y_train_vals).T, axis=0)\n",
    "sb.heatmap(B0_err, square=True)\n",
    "plt.xticks(x_tick_pos, x_tick_labels)\n",
    "plt.yticks(y_tick_pos, y_tick_labels)\n",
    "plt.title(\"Initial magnetic field (relative error)\")\n",
    "plt.xlabel(p.independent_variable_labels[1])\n",
    "plt.ylabel(p.independent_variable_labels[2])\n",
    "plt.show()"
   ]
  },
  {
   "cell_type": "code",
   "execution_count": null,
   "metadata": {},
   "outputs": [],
   "source": [
    "# Plot the absolute error in the predicted initial Bz as a heat map.\n",
    "n_start = n_x_train_vals*n_y_train_vals\n",
    "t = t_train[:n_start]\n",
    "x = x_train[:n_start]\n",
    "y = y_train[:n_start]\n",
    "B0z_pred = ψ[2][:n_start]\n",
    "B0z_act = Bz_analytical(t, x, y)\n",
    "B0z_err = B0z_pred - B0z_act\n",
    "# To get the proper orientation, reshape, transpose, flip.\n",
    "B0z_err = np.flip(B0z_err.reshape(n_x_train_vals, n_y_train_vals).T, axis=0)\n",
    "sb.heatmap(B0z_err, square=True)\n",
    "plt.xticks(x_tick_pos, x_tick_labels)\n",
    "plt.yticks(y_tick_pos, y_tick_labels)\n",
    "plt.title(\"Initial %s (absolute error)\" % p.dependent_variable_labels[2])\n",
    "plt.xlabel(p.independent_variable_labels[1])\n",
    "plt.ylabel(p.independent_variable_labels[2])\n",
    "plt.show()"
   ]
  },
  {
   "cell_type": "code",
   "execution_count": null,
   "metadata": {},
   "outputs": [],
   "source": [
    "# Plot the analytical final magnetic field as a quiver plot.\n",
    "n_end = n_x_train_vals*n_y_train_vals\n",
    "t = t_train[-n_end:]\n",
    "x = x_train[-n_end:]\n",
    "y = y_train[-n_end:]\n",
    "B1x_act = Bx_analytical(t, x, y)\n",
    "B1y_act = By_analytical(t, x, y)\n",
    "plt.quiver(x, y, B1x_act, B1y_act)\n",
    "ax = plt.gca()\n",
    "ax.set_aspect(1.0)\n",
    "ax.grid()\n",
    "plt.title(\"Final magnetic field (analytical)\")\n",
    "plt.xlabel(p.independent_variable_labels[1])\n",
    "plt.ylabel(p.independent_variable_labels[2])\n",
    "plt.show()"
   ]
  },
  {
   "cell_type": "code",
   "execution_count": null,
   "metadata": {},
   "outputs": [],
   "source": [
    "# Plot the analytical final magnetic field as a logarithmic heat map.\n",
    "n_end = n_x_train_vals*n_y_train_vals\n",
    "t = t_train[-n_end:]\n",
    "x = x_train[-n_end:]\n",
    "y = y_train[-n_end:]\n",
    "B1x_act = Bx_analytical(t, x, y)\n",
    "B1y_act = By_analytical(t, x, y)\n",
    "B1_act = np.sqrt(B1x_act**2 + B1y_act**2)\n",
    "# To get the proper orientation, reshape, transpose, flip.\n",
    "B1_act = np.flip(B1_act.reshape(n_x_train_vals, n_y_train_vals).T, axis=0)\n",
    "sb.heatmap(B1_act, norm=LogNorm(), square=True)\n",
    "plt.xticks(x_tick_pos, x_tick_labels)\n",
    "plt.yticks(y_tick_pos, y_tick_labels)\n",
    "plt.title(\"Final magnetic field (analytical)\")\n",
    "plt.xlabel(p.independent_variable_labels[1])\n",
    "plt.ylabel(p.independent_variable_labels[2])\n",
    "plt.show()"
   ]
  },
  {
   "cell_type": "code",
   "execution_count": null,
   "metadata": {},
   "outputs": [],
   "source": [
    "# Plot the predicted final magnetic field as a quiver plot.\n",
    "n_end = n_x_train_vals*n_y_train_vals\n",
    "x = x_train[-n_end:]\n",
    "y = y_train[-n_end:]\n",
    "B1x_pred = ψ[0][-n_end:]\n",
    "B1y_pred = ψ[1][-n_end:]\n",
    "plt.quiver(x, y, B1x_pred, B1y_pred)\n",
    "ax = plt.gca()\n",
    "ax.set_aspect(1.0)\n",
    "ax.grid()\n",
    "plt.title(\"Final magnetic field (predicted)\")\n",
    "plt.xlabel(p.independent_variable_labels[1])\n",
    "plt.ylabel(p.independent_variable_labels[2])\n",
    "plt.show()"
   ]
  },
  {
   "cell_type": "code",
   "execution_count": null,
   "metadata": {},
   "outputs": [],
   "source": [
    "# Plot the predicted final magnetic field as a logarithmic heat map.\n",
    "n_end = n_x_train_vals*n_y_train_vals\n",
    "x = x_train[-n_end:]\n",
    "y = y_train[-n_end:]\n",
    "B1x_pred = ψ[0][-n_end:]\n",
    "B1y_pred = ψ[1][-n_end:]\n",
    "B1_pred = np.sqrt(B1x_pred**2 + B1y_pred**2)\n",
    "# To get the proper orientation, reshape, transpose, flip.\n",
    "B1_pred = np.flip(B1_pred.reshape(n_x_train_vals, n_y_train_vals).T, axis=0)\n",
    "sb.heatmap(B1_pred, norm=LogNorm(), square=True)\n",
    "plt.xticks(x_tick_pos, x_tick_labels)\n",
    "plt.yticks(y_tick_pos, y_tick_labels)\n",
    "plt.title(\"Final magnetic field (predicted)\")\n",
    "plt.xlabel(p.independent_variable_labels[1])\n",
    "plt.ylabel(p.independent_variable_labels[2])\n",
    "plt.show()"
   ]
  },
  {
   "cell_type": "code",
   "execution_count": null,
   "metadata": {},
   "outputs": [],
   "source": [
    "# Plot the error in the predicted final magnetic field as a heat map.\n",
    "n_end = n_x_train_vals*n_y_train_vals\n",
    "x = x_train[-n_end:]\n",
    "y = y_train[-n_end:]\n",
    "B1_err = (B1_pred - B1_act)/B1_act\n",
    "# To get the proper orientation, reshape, transpose, flip.\n",
    "B1_err = np.flip(B1_err.reshape(n_x_train_vals, n_y_train_vals).T, axis=0)\n",
    "sb.heatmap(B1_err, square=True)\n",
    "plt.xticks(x_tick_pos, x_tick_labels)\n",
    "plt.yticks(y_tick_pos, y_tick_labels)\n",
    "plt.title(\"Final magnetic field (relative error)\")\n",
    "plt.xlabel(p.independent_variable_labels[1])\n",
    "plt.ylabel(p.independent_variable_labels[2])\n",
    "plt.show()"
   ]
  },
  {
   "cell_type": "code",
   "execution_count": null,
   "metadata": {},
   "outputs": [],
   "source": [
    "# Plot the error in the predicted final Bz as a heat map.\n",
    "n_end = n_x_train_vals*n_y_train_vals\n",
    "t = t_train[-n_end:]\n",
    "x = x_train[-n_end:]\n",
    "y = y_train[-n_end:]\n",
    "B1z_pred = ψ[2][-n_end:]\n",
    "B1z_act = Bz_analytical(t, x, y)\n",
    "B1z_err = B1z_pred - B1z_act\n",
    "# To get the proper orientation, reshape, transpose, flip.\n",
    "B1z_err = np.flip(B1z_err.reshape(n_x_train_vals, n_y_train_vals).T, axis=0)\n",
    "sb.heatmap(B1z_err, square=True)\n",
    "plt.xticks(x_tick_pos, x_tick_labels)\n",
    "plt.yticks(y_tick_pos, y_tick_labels)\n",
    "plt.title(\"Final %s (absolute error)\" % p.dependent_variable_labels[2])\n",
    "plt.xlabel(p.independent_variable_labels[1])\n",
    "plt.ylabel(p.independent_variable_labels[2])\n",
    "plt.show()"
   ]
  },
  {
   "cell_type": "code",
   "execution_count": null,
   "metadata": {},
   "outputs": [],
   "source": []
  }
 ],
 "metadata": {
  "kernelspec": {
   "display_name": "research-3.10",
   "language": "python",
   "name": "python3"
  },
  "language_info": {
   "codemirror_mode": {
    "name": "ipython",
    "version": 3
   },
   "file_extension": ".py",
   "mimetype": "text/x-python",
   "name": "python",
   "nbconvert_exporter": "python",
   "pygments_lexer": "ipython3",
   "version": "3.10.8"
  },
  "orig_nbformat": 4,
  "vscode": {
   "interpreter": {
    "hash": "00353d7f30cefe116fc1bf1d52fbabca9f44d2df3e2eb8cf0d245f78f2264c19"
   }
  }
 },
 "nbformat": 4,
 "nbformat_minor": 2
}
