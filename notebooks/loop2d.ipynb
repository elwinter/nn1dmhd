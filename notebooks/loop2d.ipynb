{
 "cells": [
  {
   "cell_type": "code",
   "execution_count": null,
   "metadata": {},
   "outputs": [],
   "source": [
    "from importlib import import_module\n",
    "import os\n",
    "import sys\n",
    "\n",
    "import matplotlib.pyplot as plt\n",
    "import numpy as np"
   ]
  },
  {
   "cell_type": "code",
   "execution_count": null,
   "metadata": {},
   "outputs": [],
   "source": [
    "# Specify the run ID (aka problem name).\n",
    "runid = \"loop2d\"\n",
    "\n",
    "# Add the subdirectory for the run results to the module search path.\n",
    "run_path = os.path.join(\".\", runid)\n",
    "sys.path.append(run_path)\n",
    "\n",
    "# Import the problem definition from the run results directory.\n",
    "p = import_module(runid)\n",
    "\n",
    "# Read the run hyperparameters from the run results directory.\n",
    "import hyperparameters as hp"
   ]
  },
  {
   "cell_type": "code",
   "execution_count": null,
   "metadata": {},
   "outputs": [],
   "source": [
    "# Load the training points.\n",
    "xyt_train = np.loadtxt(os.path.join(runid, \"xyt_train.dat\"))\n",
    "x_train = xyt_train[:, 0]\n",
    "y_train = xyt_train[:, 1]\n",
    "t_train = xyt_train[:, 2]"
   ]
  },
  {
   "cell_type": "code",
   "execution_count": null,
   "metadata": {},
   "outputs": [],
   "source": [
    "# Extract the unique training point values.\n",
    "x_train_vals = np.unique(x_train)\n",
    "y_train_vals = np.unique(y_train)\n",
    "t_train_vals = np.unique(t_train)\n",
    "n_x_train_vals = len(x_train_vals)\n",
    "n_y_train_vals = len(y_train_vals)\n",
    "n_t_train_vals = len(t_train_vals)"
   ]
  },
  {
   "cell_type": "code",
   "execution_count": null,
   "metadata": {},
   "outputs": [],
   "source": [
    "# Load the boundary locations.\n",
    "xyt_train_bc = np.loadtxt(os.path.join(runid, \"xyt_train_bc.dat\"))\n",
    "\n",
    "# Load the initial conditions.\n",
    "bc0 = np.loadtxt(os.path.join(runid, \"bc0.dat\"))"
   ]
  },
  {
   "cell_type": "code",
   "execution_count": null,
   "metadata": {},
   "outputs": [],
   "source": [
    "# Plot the initial magnetic field.\n",
    "X = xyt_train_bc[:, 0]\n",
    "Y = xyt_train_bc[:, 1]\n",
    "U = bc0[:, 5]\n",
    "V = bc0[:, 6]\n",
    "plt.quiver(X, Y, U, V, scale=1e-2)\n",
    "plt.title(\"Initial magnetic field\")\n",
    "plt.xlabel(\"$x$\")\n",
    "plt.ylabel(\"$y$\")"
   ]
  },
  {
   "cell_type": "code",
   "execution_count": null,
   "metadata": {},
   "outputs": [],
   "source": [
    "# Load the model-predicted values.\n",
    "ψ = []\n",
    "delψ = []\n",
    "for i in range(len(p.dependent_variable_names)):\n",
    "    var_name = p.dependent_variable_names[i]\n",
    "    ψ.append(np.loadtxt(os.path.join(runid, \"%s_train.dat\" % var_name)))\n",
    "    delψ.append(np.loadtxt(os.path.join(runid, \"del_%s_train.dat\" % var_name)))\n"
   ]
  },
  {
   "cell_type": "code",
   "execution_count": null,
   "metadata": {},
   "outputs": [],
   "source": [
    "X = x_train[::n_t_train_vals]\n",
    "Y = y_train[::n_t_train_vals]\n",
    "U = ψ[2][::n_t_train_vals]\n",
    "V = ψ[3][::n_t_train_vals]\n",
    "plt.quiver(X, Y, U, V)\n",
    "plt.title(\"Predicted velocity at start\")\n",
    "plt.xlabel(\"$x$\")\n",
    "plt.ylabel(\"$y$\")"
   ]
  },
  {
   "cell_type": "code",
   "execution_count": null,
   "metadata": {},
   "outputs": [],
   "source": [
    "X = x_train[n_t_train_vals::n_t_train_vals]\n",
    "Y = y_train[n_t_train_vals::n_t_train_vals]\n",
    "U = ψ[2][n_t_train_vals::n_t_train_vals]\n",
    "V = ψ[3][n_t_train_vals::n_t_train_vals]\n",
    "plt.quiver(X, Y, U, V)\n",
    "plt.title(\"Predicted velocity at end\")\n",
    "plt.xlabel(\"$x$\")\n",
    "plt.ylabel(\"$y$\")"
   ]
  },
  {
   "cell_type": "code",
   "execution_count": null,
   "metadata": {},
   "outputs": [],
   "source": [
    "X = x_train[::n_t_train_vals]\n",
    "Y = y_train[::n_t_train_vals]\n",
    "U = ψ[5][::n_t_train_vals]\n",
    "V = ψ[6][::n_t_train_vals]\n",
    "plt.quiver(X, Y, U, V)\n",
    "plt.title(\"Predicted magnetic field at start\")\n",
    "plt.xlabel(\"$x$\")\n",
    "plt.ylabel(\"$y$\")"
   ]
  },
  {
   "cell_type": "code",
   "execution_count": null,
   "metadata": {},
   "outputs": [],
   "source": [
    "X = x_train[n_t_train_vals::n_t_train_vals]\n",
    "Y = y_train[n_t_train_vals::n_t_train_vals]\n",
    "U = ψ[5][n_t_train_vals::n_t_train_vals]\n",
    "V = ψ[6][n_t_train_vals::n_t_train_vals]\n",
    "plt.quiver(X, Y, U, V)\n",
    "plt.title(\"Predicted magnetic field at end\")\n",
    "plt.xlabel(\"$x$\")\n",
    "plt.ylabel(\"$y$\")"
   ]
  },
  {
   "cell_type": "code",
   "execution_count": null,
   "metadata": {},
   "outputs": [],
   "source": [
    "fig, axes = plt.subplots()\n",
    "cc = plt.Circle((0, 0), 0.3, color='red')\n",
    "axes.set_aspect(1.0)\n",
    "axes.add_artist(cc)\n",
    "plt.scatter(X, Y)\n",
    "plt.title(\"Training points\")\n",
    "plt.xlabel(\"$x$\")\n",
    "plt.ylabel(\"$y$\")"
   ]
  },
  {
   "cell_type": "code",
   "execution_count": null,
   "metadata": {},
   "outputs": [],
   "source": [
    "# Compute the analytical magnetic field at t=0.\n",
    "XYT0 = xyt_train[::n_t_train_vals]\n",
    "Bxa0 = p.Bx_analytical(XYT0)\n",
    "Bya0 = p.By_analytical(XYT0)"
   ]
  },
  {
   "cell_type": "code",
   "execution_count": null,
   "metadata": {},
   "outputs": [],
   "source": [
    "# Plot the analytical magnetic field at t=0.\n",
    "fig, ax = plt.subplots()\n",
    "ax.set_aspect(1)\n",
    "ax.quiver(XYT0[:, 0], XYT0[:, 1], Bxa0, Bya0, scale=1e-2)"
   ]
  }
 ],
 "metadata": {
  "kernelspec": {
   "display_name": "Python 3.8.13 ('research-3.8')",
   "language": "python",
   "name": "python3"
  },
  "language_info": {
   "codemirror_mode": {
    "name": "ipython",
    "version": 3
   },
   "file_extension": ".py",
   "mimetype": "text/x-python",
   "name": "python",
   "nbconvert_exporter": "python",
   "pygments_lexer": "ipython3",
   "version": "3.8.13"
  },
  "orig_nbformat": 4,
  "vscode": {
   "interpreter": {
    "hash": "f2da49bfea38603819e913a4c68264bf8928db0e3621ba6c2bddf34624553e02"
   }
  }
 },
 "nbformat": 4,
 "nbformat_minor": 2
}
