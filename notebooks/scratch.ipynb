{
 "cells": [
  {
   "cell_type": "code",
   "execution_count": 35,
   "metadata": {},
   "outputs": [],
   "source": [
    "import numpy as np"
   ]
  },
  {
   "cell_type": "code",
   "execution_count": 36,
   "metadata": {},
   "outputs": [],
   "source": [
    "nt = 3\n",
    "nx = 4\n",
    "ny = 5\n",
    "nz = 6\n",
    "t0, t1 = 0, 1\n",
    "x0, x1 = 0, 1\n",
    "y0, y1 = 0, 1\n",
    "z0, z1 = 0, 1\n",
    "t = np.linspace(t0, t1, nt)\n",
    "x = np.linspace(x0, x1, nx)\n",
    "y = np.linspace(y0, y1, ny)\n",
    "z = np.linspace(z0, z1, nz)"
   ]
  },
  {
   "cell_type": "code",
   "execution_count": 37,
   "metadata": {},
   "outputs": [
    {
     "name": "stdout",
     "output_type": "stream",
     "text": [
      "[0.  0.5 1. ]\n"
     ]
    }
   ],
   "source": [
    "# 1 dimension\n",
    "T = np.copy(t)\n",
    "D = np.copy(T)\n",
    "print(D)"
   ]
  },
  {
   "cell_type": "code",
   "execution_count": 38,
   "metadata": {},
   "outputs": [
    {
     "name": "stdout",
     "output_type": "stream",
     "text": [
      "[[0.         0.        ]\n",
      " [0.         0.33333333]\n",
      " [0.         0.66666667]\n",
      " [0.         1.        ]\n",
      " [0.5        0.        ]\n",
      " [0.5        0.33333333]\n",
      " [0.5        0.66666667]\n",
      " [0.5        1.        ]\n",
      " [1.         0.        ]\n",
      " [1.         0.33333333]\n",
      " [1.         0.66666667]\n",
      " [1.         1.        ]]\n"
     ]
    }
   ],
   "source": [
    "# 2 dimension\n",
    "T = np.repeat(t, nx)\n",
    "X = np.tile(x, nt)\n",
    "D = np.vstack([T, X]).T\n",
    "print(D)"
   ]
  },
  {
   "cell_type": "code",
   "execution_count": 39,
   "metadata": {},
   "outputs": [
    {
     "name": "stdout",
     "output_type": "stream",
     "text": [
      "[[0.         0.         0.        ]\n",
      " [0.         0.         0.25      ]\n",
      " [0.         0.         0.5       ]\n",
      " [0.         0.         0.75      ]\n",
      " [0.         0.         1.        ]\n",
      " [0.         0.33333333 0.        ]\n",
      " [0.         0.33333333 0.25      ]\n",
      " [0.         0.33333333 0.5       ]\n",
      " [0.         0.33333333 0.75      ]\n",
      " [0.         0.33333333 1.        ]\n",
      " [0.         0.66666667 0.        ]\n",
      " [0.         0.66666667 0.25      ]\n",
      " [0.         0.66666667 0.5       ]\n",
      " [0.         0.66666667 0.75      ]\n",
      " [0.         0.66666667 1.        ]\n",
      " [0.         1.         0.        ]\n",
      " [0.         1.         0.25      ]\n",
      " [0.         1.         0.5       ]\n",
      " [0.         1.         0.75      ]\n",
      " [0.         1.         1.        ]\n",
      " [0.5        0.         0.        ]\n",
      " [0.5        0.         0.25      ]\n",
      " [0.5        0.         0.5       ]\n",
      " [0.5        0.         0.75      ]\n",
      " [0.5        0.         1.        ]\n",
      " [0.5        0.33333333 0.        ]\n",
      " [0.5        0.33333333 0.25      ]\n",
      " [0.5        0.33333333 0.5       ]\n",
      " [0.5        0.33333333 0.75      ]\n",
      " [0.5        0.33333333 1.        ]\n",
      " [0.5        0.66666667 0.        ]\n",
      " [0.5        0.66666667 0.25      ]\n",
      " [0.5        0.66666667 0.5       ]\n",
      " [0.5        0.66666667 0.75      ]\n",
      " [0.5        0.66666667 1.        ]\n",
      " [0.5        1.         0.        ]\n",
      " [0.5        1.         0.25      ]\n",
      " [0.5        1.         0.5       ]\n",
      " [0.5        1.         0.75      ]\n",
      " [0.5        1.         1.        ]\n",
      " [1.         0.         0.        ]\n",
      " [1.         0.         0.25      ]\n",
      " [1.         0.         0.5       ]\n",
      " [1.         0.         0.75      ]\n",
      " [1.         0.         1.        ]\n",
      " [1.         0.33333333 0.        ]\n",
      " [1.         0.33333333 0.25      ]\n",
      " [1.         0.33333333 0.5       ]\n",
      " [1.         0.33333333 0.75      ]\n",
      " [1.         0.33333333 1.        ]\n",
      " [1.         0.66666667 0.        ]\n",
      " [1.         0.66666667 0.25      ]\n",
      " [1.         0.66666667 0.5       ]\n",
      " [1.         0.66666667 0.75      ]\n",
      " [1.         0.66666667 1.        ]\n",
      " [1.         1.         0.        ]\n",
      " [1.         1.         0.25      ]\n",
      " [1.         1.         0.5       ]\n",
      " [1.         1.         0.75      ]\n",
      " [1.         1.         1.        ]]\n"
     ]
    }
   ],
   "source": [
    "# 3 dimension\n",
    "T = np.repeat(t, nx*ny)\n",
    "X = np.tile(np.repeat(x, ny), nt)\n",
    "Y = np.tile(y, nt*nx)\n",
    "D = np.vstack([T, X, Y]).T\n",
    "print(D)"
   ]
  },
  {
   "cell_type": "code",
   "execution_count": 40,
   "metadata": {},
   "outputs": [
    {
     "name": "stdout",
     "output_type": "stream",
     "text": [
      "[[0.  0.  0.  0. ]\n",
      " [0.  0.  0.  0.2]\n",
      " [0.  0.  0.  0.4]\n",
      " ...\n",
      " [1.  1.  1.  0.6]\n",
      " [1.  1.  1.  0.8]\n",
      " [1.  1.  1.  1. ]]\n"
     ]
    }
   ],
   "source": [
    "# 4 dimension\n",
    "T = np.repeat(t, nx*ny*nz)\n",
    "X = np.tile(np.repeat(x, ny*nz), nt)\n",
    "Y = np.tile(np.repeat(y, nz), nt*nx)\n",
    "Z = np.tile(z, nt*nx*ny)\n",
    "D = np.vstack([T, X, Y, Z]).T\n",
    "print(D)"
   ]
  },
  {
   "cell_type": "code",
   "execution_count": 41,
   "metadata": {},
   "outputs": [
    {
     "name": "stdout",
     "output_type": "stream",
     "text": [
      "360\n"
     ]
    }
   ],
   "source": [
    "n_train = np.prod([nt, nx, ny, nz])\n",
    "print(n_train)"
   ]
  },
  {
   "cell_type": "code",
   "execution_count": 42,
   "metadata": {},
   "outputs": [
    {
     "data": {
      "text/plain": [
       "360"
      ]
     },
     "execution_count": 42,
     "metadata": {},
     "output_type": "execute_result"
    }
   ],
   "source": [
    "len(D)"
   ]
  },
  {
   "cell_type": "code",
   "execution_count": 43,
   "metadata": {},
   "outputs": [
    {
     "name": "stdout",
     "output_type": "stream",
     "text": [
      "4 360\n"
     ]
    }
   ],
   "source": [
    "n = [3, 4, 5, 6]\n",
    "b = [\n",
    "    [0, 1],\n",
    "    [0, 1],\n",
    "    [0, 1],\n",
    "    [0, 1],\n",
    "]\n",
    "n_dim = len(n)\n",
    "n_train = np.prod(n)\n",
    "print(n_dim, n_train)"
   ]
  },
  {
   "cell_type": "code",
   "execution_count": 44,
   "metadata": {},
   "outputs": [],
   "source": [
    "x = []\n",
    "for i in range(n_dim):\n",
    "    x.append(np.linspace(b[i][0], b[i][1], n[i]))"
   ]
  },
  {
   "cell_type": "code",
   "execution_count": 60,
   "metadata": {},
   "outputs": [],
   "source": [
    "grid = []\n",
    "# grid.append(np.repeat(x[0], np.prod(n[1:])))\n",
    "# for i in range(0, n_dim - 1):\n",
    "for i in range(n_dim):\n",
    "    grid.append(\n",
    "      np.tile(\n",
    "        np.repeat(x[i], np.prod(n[i + 1:])),\n",
    "        np.prod(n[:i])\n",
    "      )\n",
    "    )\n",
    "# grid.append(np.tile(x[-1], np.prod(n[:-1])))\n",
    "D2 = np.vstack(grid).T"
   ]
  },
  {
   "cell_type": "code",
   "execution_count": 61,
   "metadata": {},
   "outputs": [
    {
     "data": {
      "text/plain": [
       "((360, 4), (360, 4))"
      ]
     },
     "execution_count": 61,
     "metadata": {},
     "output_type": "execute_result"
    }
   ],
   "source": [
    "D.shape, D2.shape"
   ]
  },
  {
   "cell_type": "code",
   "execution_count": 62,
   "metadata": {},
   "outputs": [],
   "source": [
    "for p in D == D2:\n",
    "    for v in p:\n",
    "        if not v:\n",
    "            print(\"FAIL\")"
   ]
  },
  {
   "cell_type": "code",
   "execution_count": 64,
   "metadata": {},
   "outputs": [
    {
     "data": {
      "text/plain": [
       "array([0.5       , 0.33333333, 1.        , 1.        ])"
      ]
     },
     "execution_count": 64,
     "metadata": {},
     "output_type": "execute_result"
    }
   ],
   "source": [
    "D[179]"
   ]
  },
  {
   "cell_type": "code",
   "execution_count": null,
   "metadata": {},
   "outputs": [],
   "source": []
  }
 ],
 "metadata": {
  "kernelspec": {
   "display_name": "Python 3.10.6 ('research-3.10')",
   "language": "python",
   "name": "python3"
  },
  "language_info": {
   "codemirror_mode": {
    "name": "ipython",
    "version": 3
   },
   "file_extension": ".py",
   "mimetype": "text/x-python",
   "name": "python",
   "nbconvert_exporter": "python",
   "pygments_lexer": "ipython3",
   "version": "3.10.6"
  },
  "orig_nbformat": 4,
  "vscode": {
   "interpreter": {
    "hash": "00353d7f30cefe116fc1bf1d52fbabca9f44d2df3e2eb8cf0d245f78f2264c19"
   }
  }
 },
 "nbformat": 4,
 "nbformat_minor": 2
}
